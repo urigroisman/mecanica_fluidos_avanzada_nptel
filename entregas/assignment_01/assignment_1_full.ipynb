{
 "cells": [
  {
   "cell_type": "markdown",
   "id": "83a11363",
   "metadata": {},
   "source": [
    "# Assignment 1 – Transport Phenomena"
   ]
  },
  {
   "cell_type": "markdown",
   "id": "1c2a88a7",
   "metadata": {},
   "source": [
    "## Problem 1\n",
    "\n",
    "\n",
    "**Problem 1**\n",
    "\n",
    "The three vectors $\\vec{a}$, $\\vec{b}$ and $\\vec{c}$ are coplanar if and only if their scalar triple product is zero:\n",
    "\n",
    "$$\n",
    "\\vec{a} \\cdot (\\vec{b} \\times \\vec{c}) = 0\n",
    "$$\n",
    "\n",
    "✅ Correct answer: **(c)**\n"
   ]
  },
  {
   "cell_type": "markdown",
   "id": "1c04f060",
   "metadata": {},
   "source": [
    "## Problem 2\n",
    "\n",
    "\n",
    "**Problem 2**\n",
    "\n",
    "The given differential equation is:\n",
    "$$\n",
    "x^2 y'' + 5x y' + 3y = \\ln(x), \\quad x > 0\n",
    "$$\n",
    "\n",
    "Using the substitution $x = e^t$, and solving the resulting linear ODE with constant coefficients, we obtain:\n",
    "\n",
    "$$\n",
    "y(x) = A e^{-x} + B e^{-3x} + \\frac{x}{3} - \\frac{4}{9}\n",
    "$$\n",
    "\n",
    "✅ Correct answer: **(d)**\n"
   ]
  },
  {
   "cell_type": "markdown",
   "id": "b9ecdb3f",
   "metadata": {},
   "source": [
    "## Problem 3\n",
    "\n",
    "\n",
    "**Problem 3**\n",
    "\n",
    "The Taylor series expansion of a function $f(x)$ about the point $x = a$ is:\n",
    "\n",
    "$$\n",
    "f(x) = f(a) + \\frac{(x - a)}{1!}f'(a) + \\frac{(x - a)^2}{2!}f''(a) + \\dots + \\frac{(x - a)^n}{n!}f^{(n)}(a) + \\dots\n",
    "$$\n",
    "\n",
    "✅ Correct answer: **(d)**\n"
   ]
  },
  {
   "cell_type": "markdown",
   "id": "c9d1db04",
   "metadata": {},
   "source": [
    "## Problem 4\n",
    "\n",
    "\n",
    "**Problem 4**\n",
    "\n",
    "The Cauchy-Riemann equations are necessary for a function $f(z) = u(x, y) + iv(x, y)$ to be analytic:\n",
    "\n",
    "$$\n",
    "\\frac{\\partial u}{\\partial x} = \\frac{\\partial v}{\\partial y}, \\quad \\frac{\\partial u}{\\partial y} = -\\frac{\\partial v}{\\partial x}\n",
    "$$\n",
    "\n",
    "✅ Correct answer: **(b)**\n"
   ]
  },
  {
   "cell_type": "markdown",
   "id": "1e68ec59",
   "metadata": {},
   "source": [
    "## Problem 5\n",
    "\n",
    "\n",
    "**Problem 5**\n",
    "\n",
    "For a tangent plane to the surface $z = 2e^{-x}\\sin(2y)$ at $\\left(0, \\frac{\\pi}{12}, 1\\right)$, compute partial derivatives:\n",
    "\n",
    "$$\n",
    "z_x = -2e^{-x}\\sin(2y), \\quad z_y = 4e^{-x}\\cos(2y)\n",
    "$$\n",
    "\n",
    "At the point, $z_x = -1$, $z_y = \\sqrt{3}$, so the plane is:\n",
    "$$\n",
    "x + 2\\sqrt{3}y - z = \\frac{\\sqrt{3}\\pi - 6}{6}\n",
    "$$\n",
    "\n",
    "✅ Correct answer: **(d)**\n"
   ]
  },
  {
   "cell_type": "markdown",
   "id": "888e3975",
   "metadata": {},
   "source": [
    "## Problem 6\n",
    "\n",
    "\n",
    "**Problem 6**\n",
    "\n",
    "On a streamline, the displacement vector $d\\vec{r}$ is tangent to the velocity vector $\\vec{V}$:\n",
    "\n",
    "$$\n",
    "d\\vec{r} \\times \\vec{V} = 0\n",
    "$$\n",
    "\n",
    "✅ Correct answer: **(b)**\n"
   ]
  },
  {
   "cell_type": "markdown",
   "id": "b5a20556",
   "metadata": {},
   "source": [
    "## Problem 7\n",
    "\n",
    "\n",
    "**Problem 7**\n",
    "\n",
    "Given $\\vec{V} = 2xy\\hat{i} + (2y^2 - x^2)\\hat{j}$, the volumetric strain rate is:\n",
    "\n",
    "$$\n",
    "\\dot{\\varepsilon}_v = \\nabla \\cdot \\vec{V} = \\frac{\\partial u}{\\partial x} + \\frac{\\partial v}{\\partial y} = 2y + 4y = 6y\n",
    "$$\n",
    "\n",
    "✅ Correct answer: **(b)**\n"
   ]
  },
  {
   "cell_type": "markdown",
   "id": "c69fcde7",
   "metadata": {},
   "source": [
    "## Problem 8\n",
    "\n",
    "\n",
    "**Problem 8**\n",
    "\n",
    "Given $u = 0$, $v = \\frac{y}{t + t_0}$, the trajectory of a fluid particle is:\n",
    "\n",
    "$$\n",
    "\\int \\frac{dy}{y} = \\int \\frac{dt}{t + t_0} \\Rightarrow \\ln(y) - \\ln(y_0) = \\ln\\left(\\frac{t}{t_0}+1\\right) \\Rightarrow y = y_0\\left(1 + \\frac{t}{t_0}\\right)\n",
    "$$\n",
    "\n",
    "Solving and eliminating $t$, we get:\n",
    "\n",
    "$$\n",
    "\\frac{x}{x_0} - \\frac{y - y_0}{2t_0v_0} = 1\n",
    "$$\n",
    "\n",
    "✅ Correct answer: **(a)**\n"
   ]
  },
  {
   "cell_type": "markdown",
   "id": "87ee4974",
   "metadata": {},
   "source": [
    "## Problem 9\n",
    "\n",
    "\n",
    "**Problem 9**\n",
    "\n",
    "Given $u = e^x \\cosh(y)$ and $v = -e^x \\sinh(x)$, the streamline satisfies:\n",
    "\n",
    "$$\n",
    "\\frac{dy}{dx} = \\frac{v}{u} = -\\frac{\\sinh(x)}{\\cosh(y)} \\Rightarrow \\cosh(x) - \\sinh(y) = C\n",
    "$$\n",
    "\n",
    "✅ Correct answer: **(d)**\n"
   ]
  },
  {
   "cell_type": "markdown",
   "id": "84a7b4c5",
   "metadata": {},
   "source": [
    "## Problem 10\n",
    "\n",
    "\n",
    "**Problem 10**\n",
    "\n",
    "Given $\\psi = \\ln(x^2 + y^2)$, compute velocity:\n",
    "\n",
    "$$\n",
    "u = \\frac{\\partial \\psi}{\\partial y} = \\frac{2y}{x^2 + y^2}, \\quad v = -\\frac{\\partial \\psi}{\\partial x} = \\frac{-2x}{x^2 + y^2}\n",
    "$$\n",
    "\n",
    "The flow is rotational.\n",
    "\n",
    "✅ Correct answer: **(a)**\n"
   ]
  }
 ],
 "metadata": {},
 "nbformat": 4,
 "nbformat_minor": 5
}